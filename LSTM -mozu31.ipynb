{
 "cells": [
  {
   "cell_type": "code",
   "execution_count": 1,
   "metadata": {},
   "outputs": [],
   "source": [
    "# %cd CFY\n",
    "# %matplotlib inline\n",
    "import numpy as np\n",
    "import matplotlib.pyplot as plt\n",
    "import pandas as pd\n",
    "import torch\n",
    "import torch.nn as nn\n",
    "from torch.autograd import Variable\n",
    "from sklearn.preprocessing import MinMaxScaler\n",
    "import os\n",
    "from statsmodels.tsa.seasonal import seasonal_decompose\n",
    "import statsmodels.api as sm\n",
    "# from statsmodels.tsa.arima import SARIMAX"
   ]
  },
  {
   "cell_type": "code",
   "execution_count": 2,
   "metadata": {},
   "outputs": [
    {
     "data": {
      "text/plain": [
       "'NVIDIA GeForce RTX 3090'"
      ]
     },
     "execution_count": 2,
     "metadata": {},
     "output_type": "execute_result"
    }
   ],
   "source": [
    "torch.cuda.current_device()\n",
    "torch.cuda.get_device_name(0)"
   ]
  },
  {
   "cell_type": "code",
   "execution_count": 133,
   "metadata": {
    "scrolled": true
   },
   "outputs": [
    {
     "name": "stdout",
     "output_type": "stream",
     "text": [
      "[]\n"
     ]
    }
   ],
   "source": [
    "df = pd.read_csv('HLDYMozu31-cfy.csv', index_col = 'date', parse_dates=True)\n",
    "cols = df.columns.drop('mozu')\n",
    "df[cols] = df[cols].apply(pd.to_numeric, errors='coerce')\n",
    "df = df.loc['2022-05-11 00:00:00':,:]\n",
    "\n",
    "s = pd.to_datetime('2022-06-10 00:00:00')\n",
    "e = pd.to_datetime('2022-06-13 23:00:00')\n",
    "df = df.drop(index=pd.date_range(start=s,end=e,freq='H'))\n",
    "\n",
    "s = pd.to_datetime('2022-07-17 00:00:00')\n",
    "e = pd.to_datetime('2022-07-17 23:00:00')\n",
    "df = df.drop(index=pd.date_range(start=s,end=e,freq='H'))\n",
    "\n",
    "s = pd.to_datetime('2022-07-19 00:00:00')\n",
    "e = pd.to_datetime('2022-07-25 23:00:00')\n",
    "df = df.drop(index=pd.date_range(start=s,end=e,freq='H'))\n",
    "\n",
    "s = pd.to_datetime('2022-08-03 00:00:00')\n",
    "e = pd.to_datetime('2022-08-04 23:00:00')\n",
    "df = df.drop(index=pd.date_range(start=s,end=e,freq='H'))\n",
    "\n",
    "s = pd.to_datetime('2022-08-07 00:00:00')\n",
    "e = pd.to_datetime('2022-08-09 23:00:00')\n",
    "df = df.drop(index=pd.date_range(start=s,end=e,freq='H'))\n",
    "\n",
    "s = pd.to_datetime('2022-08-21 00:00:00')\n",
    "e = pd.to_datetime('2022-08-25 23:00:00')\n",
    "df = df.drop(index=pd.date_range(start=s,end=e,freq='H'))\n",
    "\n",
    "# AC_Power DryTemp WetTemp Humidity\n",
    "i = np.where(df['DryTemp'].isnull())[0]\n",
    "print(i)\n",
    "df.to_csv('HLDYMozu31-cfy1.csv')\n",
    "# t = i[0]\n",
    "# print(df['WetTemp'][t-10:t+10])\n",
    "# print(df)\n",
    "\n",
    "# s = pd.to_datetime('2022-01-01 00:00:00')\n",
    "# e = pd.to_datetime('2022-12-31 23:00:00')\n",
    "# pd.date_range(start=s,end=e,freq='H').difference(df.index)\n",
    "\n",
    "# temp = df.loc['2022-03-25 03:00':'2022-03-25 13:00',:]\n",
    "# temp = temp.drop(columns=['mozu'])\n",
    "# print(temp)\n",
    "# for col in temp.columns:\n",
    "#     temp[col] = pd.to_numeric(temp[col])\n",
    "# print(temp.describe())"
   ]
  },
  {
   "cell_type": "markdown",
   "metadata": {},
   "source": [
    "Fill in\n",
    "--"
   ]
  },
  {
   "cell_type": "code",
   "execution_count": 125,
   "metadata": {},
   "outputs": [
    {
     "name": "stderr",
     "output_type": "stream",
     "text": [
      "/home/server_311/miniconda3/envs/cfyML/lib/python3.9/site-packages/statsmodels/tsa/base/tsa_model.py:473: ValueWarning: A date index has been provided, but it has no associated frequency information and so will be ignored when e.g. forecasting.\n",
      "  self._init_dates(dates, freq)\n"
     ]
    },
    {
     "name": "stdout",
     "output_type": "stream",
     "text": [
      "4526   -1.316797\n",
      "4527   -1.334760\n",
      "4528   -1.326677\n",
      "4529   -1.437471\n",
      "4530   -1.708151\n",
      "4531   -2.037175\n",
      "4532   -2.310255\n",
      "4533   -2.627311\n",
      "4534   -2.923882\n",
      "4535   -3.215926\n",
      "4536   -3.532027\n",
      "4537   -3.797827\n",
      "4538   -4.083780\n",
      "4539   -4.307432\n",
      "4540   -4.556097\n",
      "4541   -4.772849\n",
      "4542   -4.833936\n",
      "4543   -4.529807\n",
      "4544   -4.005888\n",
      "4545   -3.364385\n",
      "4546   -2.699535\n",
      "4547   -2.200374\n",
      "4548   -1.791269\n",
      "4549   -1.433664\n",
      "4550   -1.380461\n",
      "4551   -1.398424\n",
      "4552   -1.390341\n",
      "4553   -1.501135\n",
      "4554   -1.771815\n",
      "4555   -2.100840\n",
      "dtype: float64\n"
     ]
    },
    {
     "name": "stderr",
     "output_type": "stream",
     "text": [
      "/home/server_311/miniconda3/envs/cfyML/lib/python3.9/site-packages/statsmodels/tsa/base/tsa_model.py:836: ValueWarning: No supported index is available. Prediction results will be given with an integer index beginning at `start`.\n",
      "  return get_prediction_index(\n",
      "/home/server_311/miniconda3/envs/cfyML/lib/python3.9/site-packages/statsmodels/tsa/base/tsa_model.py:836: FutureWarning: No supported index is available. In the next version, calling this method in a model without a supported index will result in an exception.\n",
      "  return get_prediction_index(\n"
     ]
    }
   ],
   "source": [
    "from statsmodels.tsa.holtwinters import ExponentialSmoothing \n",
    "model = ExponentialSmoothing(df['WetTemp'][0:t], seasonal_periods=24, trend='add', seasonal='add')\n",
    "# forecast = model.fit().predict(start='2022-07-20 18:00',end='2022-07-25 10:00')\n",
    "forecast = model.fit().forecast(steps=30)\n",
    "print(forecast)\n",
    "# print(df['AC_Power'][1555:1600])\n",
    "# df['AC_Power'][1560:1594] = forecast.values\n"
   ]
  },
  {
   "cell_type": "code",
   "execution_count": 71,
   "metadata": {},
   "outputs": [],
   "source": [
    "temp =  pd.read_csv('HLDYMozu31.csv', index_col = 'date', parse_dates=True)\n",
    "temp.loc['2022-07-19 00:00:00':'2022-07-20 09:00:00','AC_Power'] = forecast.values\n",
    "temp.to_csv('HLDYMozu31-cfy.csv')"
   ]
  },
  {
   "cell_type": "markdown",
   "metadata": {},
   "source": [
    "try\n",
    "--"
   ]
  },
  {
   "cell_type": "code",
   "execution_count": 88,
   "metadata": {},
   "outputs": [
    {
     "name": "stdout",
     "output_type": "stream",
     "text": [
      "date\n",
      "2022-05-11 00:00:00   -34.522917\n",
      "2022-05-11 01:00:00   -30.582917\n",
      "2022-05-11 02:00:00   -34.072917\n",
      "2022-05-11 03:00:00   -17.062917\n",
      "2022-05-11 04:00:00   -27.622917\n",
      "                         ...    \n",
      "2022-12-31 19:00:00    -4.315000\n",
      "2022-12-31 20:00:00     9.015000\n",
      "2022-12-31 21:00:00   -27.265000\n",
      "2022-12-31 22:00:00   -20.065000\n",
      "2022-12-31 23:00:00    -4.925000\n",
      "Name: detrend, Length: 5640, dtype: float64\n"
     ]
    },
    {
     "data": {
      "text/plain": [
       "<Axes: xlabel='date'>"
      ]
     },
     "execution_count": 88,
     "metadata": {},
     "output_type": "execute_result"
    },
    {
     "data": {
      "image/png": "[encoded data removed]",
      "text/plain": [
       "<Figure size 640x480 with 1 Axes>"
      ]
     },
     "metadata": {},
     "output_type": "display_data"
    }
   ],
   "source": [
    "\n",
    "# df['diff1'] = df.Total_Power.diff()\n",
    "# df.plot()\n",
    "\n",
    "df = df.fillna(method='ffill')\n",
    "df = df.fillna(method='bfill')\n",
    "\n",
    "decompose = seasonal_decompose(df['Total_Power'], model='additive')\n",
    "trend = decompose.trend.fillna(method='ffill')\n",
    "trend = trend.fillna(method='bfill')\n",
    "# print(trend)\n",
    "df['detrend'] = df['Total_Power'] - trend\n",
    "# decompose.plot()\n",
    "print(df['detrend'])\n",
    "# plt.show()\n",
    "df.plot()"
   ]
  },
  {
   "cell_type": "code",
   "execution_count": 61,
   "metadata": {},
   "outputs": [
    {
     "data": {
      "text/plain": [
       "0"
      ]
     },
     "execution_count": 61,
     "metadata": {},
     "output_type": "execute_result"
    }
   ],
   "source": [
    "time_window=48\n",
    "\n",
    "# \n",
    "df['AC_Power'] = df['AC_Power'].fillna(method='ffill')\n",
    "df['AC_Power'] = df['AC_Power'].fillna(method='bfill')\n",
    "df['AC_Power'].isna().sum()\n",
    "\n",
    "# SARIMA_res1 = sm.tsa.SARIMAX(df['Total_Power'],order=(7,1,1),seasonal_order=(1,1,1,24)).fit()\n"
   ]
  },
  {
   "cell_type": "code",
   "execution_count": 62,
   "metadata": {},
   "outputs": [
    {
     "ename": "NameError",
     "evalue": "name 'SARIMA_res1' is not defined",
     "output_type": "error",
     "traceback": [
      "\u001b[0;31m---------------------------------------------------------------------------\u001b[0m",
      "\u001b[0;31mNameError\u001b[0m                                 Traceback (most recent call last)",
      "Cell \u001b[0;32mIn[62], line 1\u001b[0m\n\u001b[0;32m----> 1\u001b[0m pred \u001b[38;5;241m=\u001b[39m \u001b[43mSARIMA_res1\u001b[49m\u001b[38;5;241m.\u001b[39mpredict(start\u001b[38;5;241m=\u001b[39m\u001b[38;5;124m'\u001b[39m\u001b[38;5;124m2022-01-01\u001b[39m\u001b[38;5;124m'\u001b[39m,end\u001b[38;5;241m=\u001b[39m\u001b[38;5;124m'\u001b[39m\u001b[38;5;124m2022-12-31\u001b[39m\u001b[38;5;124m'\u001b[39m)\n\u001b[1;32m      2\u001b[0m df[\u001b[38;5;124m'\u001b[39m\u001b[38;5;124mSARIMA\u001b[39m\u001b[38;5;124m'\u001b[39m] \u001b[38;5;241m=\u001b[39m pred\n\u001b[1;32m      3\u001b[0m pred\u001b[38;5;241m.\u001b[39mplot()\n",
      "\u001b[0;31mNameError\u001b[0m: name 'SARIMA_res1' is not defined"
     ]
    }
   ],
   "source": [
    "pred = SARIMA_res1.predict(start='2022-01-01',end='2022-12-31')\n",
    "df['SARIMA'] = pred\n",
    "pred.plot()"
   ]
  },
  {
   "cell_type": "code",
   "execution_count": null,
   "metadata": {},
   "outputs": [
    {
     "name": "stdout",
     "output_type": "stream",
     "text": [
      "None\n",
      "RUNNING THE L-BFGS-B CODE\n",
      "\n",
      "           * * *\n",
      "\n",
      "Machine precision = 2.220D-16\n",
      " N =            1     M =           10\n",
      "\n",
      "At X0         0 variables are exactly at the bounds\n",
      "\n",
      "At iterate    0    f=  8.55336D+00    |proj g|=  7.44294D-08\n",
      "\n",
      "           * * *\n",
      "\n",
      "Tit   = total number of iterations\n",
      "Tnf   = total number of function evaluations\n",
      "Tnint = total number of segments explored during Cauchy searches\n",
      "Skip  = number of BFGS updates skipped\n",
      "Nact  = number of active bounds at final generalized Cauchy point\n",
      "Projg = norm of the final projected gradient\n",
      "F     = final function value\n",
      "\n",
      "           * * *\n",
      "\n",
      "   N    Tit     Tnf  Tnint  Skip  Nact     Projg        F\n",
      "    1      0      1      0     0     0   7.443D-08   8.553D+00\n",
      "  F =   8.5533615870308246     \n",
      "\n",
      "CONVERGENCE: NORM_OF_PROJECTED_GRADIENT_<=_PGTOL            \n",
      "SARIMAX (0, 0, 0) x (0, 0, 0, 24)12 : aIC Calculated =149856.89500478006\n"
     ]
    },
    {
     "name": "stderr",
     "output_type": "stream",
     "text": [
      " This problem is unconstrained.\n"
     ]
    },
    {
     "name": "stdout",
     "output_type": "stream",
     "text": [
      "RUNNING THE L-BFGS-B CODE\n",
      "\n",
      "           * * *\n",
      "\n",
      "Machine precision = 2.220D-16\n",
      " N =            2     M =           10\n",
      "\n",
      "At X0         0 variables are exactly at the bounds\n",
      "\n",
      "At iterate    0    f=  8.23679D+00    |proj g|=  2.54507D-01\n"
     ]
    },
    {
     "name": "stderr",
     "output_type": "stream",
     "text": [
      " This problem is unconstrained.\n"
     ]
    },
    {
     "name": "stdout",
     "output_type": "stream",
     "text": [
      "\n",
      "At iterate    5    f=  8.16796D+00    |proj g|=  3.71834D-02\n",
      "\n",
      "At iterate   10    f=  8.16780D+00    |proj g|=  1.27416D-02\n",
      "\n",
      "At iterate   15    f=  8.15815D+00    |proj g|=  4.70686D-01\n",
      "\n",
      "At iterate   20    f=  7.86717D+00    |proj g|=  3.16660D-02\n",
      "\n",
      "           * * *\n",
      "\n",
      "Tit   = total number of iterations\n",
      "Tnf   = total number of function evaluations\n",
      "Tnint = total number of segments explored during Cauchy searches\n",
      "Skip  = number of BFGS updates skipped\n",
      "Nact  = number of active bounds at final generalized Cauchy point\n",
      "Projg = norm of the final projected gradient\n",
      "F     = final function value\n",
      "\n",
      "           * * *\n",
      "\n",
      "   N    Tit     Tnf  Tnint  Skip  Nact     Projg        F\n",
      "    2     24     46      1     0     0   7.567D-06   7.867D+00\n",
      "  F =   7.8671337684355942     \n",
      "\n",
      "CONVERGENCE: NORM_OF_PROJECTED_GRADIENT_<=_PGTOL            \n",
      "SARIMAX (0, 0, 0) x (0, 0, 1, 24)12 : aIC Calculated =137836.1836229916\n",
      "RUNNING THE L-BFGS-B CODE\n",
      "\n",
      "           * * *\n",
      "\n",
      "Machine precision = 2.220D-16\n",
      " N =            3     M =           10\n",
      "\n",
      "At X0         0 variables are exactly at the bounds\n",
      "\n",
      "At iterate    0    f=  8.13917D+00    |proj g|=  1.21249D-01\n"
     ]
    },
    {
     "name": "stderr",
     "output_type": "stream",
     "text": [
      " This problem is unconstrained.\n"
     ]
    },
    {
     "name": "stdout",
     "output_type": "stream",
     "text": [
      "\n",
      "At iterate    5    f=  8.06502D+00    |proj g|=  2.25566D-02\n",
      "\n",
      "At iterate   10    f=  8.06351D+00    |proj g|=  7.15668D-04\n",
      "\n",
      "At iterate   15    f=  8.06277D+00    |proj g|=  1.55449D-02\n",
      "\n",
      "At iterate   20    f=  7.48708D+00    |proj g|=  5.92632D-01\n",
      "\n",
      "At iterate   25    f=  7.32165D+00    |proj g|=  2.90968D-01\n",
      "\n",
      "At iterate   30    f=  7.31147D+00    |proj g|=  9.81069D-03\n",
      "\n",
      "At iterate   35    f=  7.31114D+00    |proj g|=  6.94303D-05\n",
      "\n",
      "           * * *\n",
      "\n",
      "Tit   = total number of iterations\n",
      "Tnf   = total number of function evaluations\n",
      "Tnint = total number of segments explored during Cauchy searches\n",
      "Skip  = number of BFGS updates skipped\n",
      "Nact  = number of active bounds at final generalized Cauchy point\n",
      "Projg = norm of the final projected gradient\n",
      "F     = final function value\n",
      "\n",
      "           * * *\n",
      "\n",
      "   N    Tit     Tnf  Tnint  Skip  Nact     Projg        F\n",
      "    3     36     55      1     0     0   8.274D-05   7.311D+00\n",
      "  F =   7.3111415666809867     \n",
      "\n",
      "CONVERGENCE: REL_REDUCTION_OF_F_<=_FACTR*EPSMCH             \n",
      "SARIMAX (0, 0, 0) x (0, 0, 2, 24)12 : aIC Calculated =128097.20024825088\n",
      "RUNNING THE L-BFGS-B CODE\n",
      "\n",
      "           * * *\n",
      "\n",
      "Machine precision = 2.220D-16\n",
      " N =            4     M =           10\n",
      "\n",
      "At X0         0 variables are exactly at the bounds\n",
      "\n",
      "At iterate    0    f=  8.08151D+00    |proj g|=  6.82757D-02\n"
     ]
    },
    {
     "name": "stderr",
     "output_type": "stream",
     "text": [
      " This problem is unconstrained.\n"
     ]
    },
    {
     "name": "stdout",
     "output_type": "stream",
     "text": [
      "\n",
      "At iterate    5    f=  8.02080D+00    |proj g|=  3.37411D-02\n",
      "\n",
      "At iterate   10    f=  8.01988D+00    |proj g|=  7.50195D-04\n",
      "\n",
      "At iterate   15    f=  8.01927D+00    |proj g|=  3.32970D-02\n",
      "\n",
      "At iterate   20    f=  8.00907D+00    |proj g|=  4.87797D-02\n",
      "\n",
      "At iterate   25    f=  7.97766D+00    |proj g|=  1.21278D-01\n",
      "\n",
      "At iterate   30    f=  7.26721D+00    |proj g|=  2.26166D-01\n",
      "\n",
      "At iterate   35    f=  6.96475D+00    |proj g|=  5.10452D-01\n",
      "\n",
      "At iterate   40    f=  6.90267D+00    |proj g|=  2.05931D-01\n",
      "\n",
      "At iterate   45    f=  6.87538D+00    |proj g|=  7.18757D-02\n",
      "\n",
      "At iterate   50    f=  6.87405D+00    |proj g|=  3.22312D-02\n",
      "\n",
      "At iterate   55    f=  6.87400D+00    |proj g|=  1.15875D-03\n",
      "\n",
      "           * * *\n",
      "\n",
      "Tit   = total number of iterations\n",
      "Tnf   = total number of function evaluations\n",
      "Tnint = total number of segments explored during Cauchy searches\n",
      "Skip  = number of BFGS updates skipped\n",
      "Nact  = number of active bounds at final generalized Cauchy point\n",
      "Projg = norm of the final projected gradient\n",
      "F     = final function value\n",
      "\n",
      "           * * *\n",
      "\n",
      "   N    Tit     Tnf  Tnint  Skip  Nact     Projg        F\n",
      "    4     58     95      1     0     0   1.776D-04   6.874D+00\n",
      "  F =   6.8740027635454766     \n",
      "\n",
      "CONVERGENCE: REL_REDUCTION_OF_F_<=_FACTR*EPSMCH             \n",
      "SARIMAX (0, 0, 0) x (0, 0, 3, 24)12 : aIC Calculated =120440.52841731675\n"
     ]
    },
    {
     "name": "stderr",
     "output_type": "stream",
     "text": [
      " This problem is unconstrained.\n"
     ]
    },
    {
     "name": "stdout",
     "output_type": "stream",
     "text": [
      "RUNNING THE L-BFGS-B CODE\n",
      "\n",
      "           * * *\n",
      "\n",
      "Machine precision = 2.220D-16\n",
      " N =            5     M =           10\n",
      "\n",
      "At X0         0 variables are exactly at the bounds\n",
      "\n",
      "At iterate    0    f=  8.03990D+00    |proj g|=  4.22400D-02\n",
      "\n",
      "At iterate    5    f=  7.99500D+00    |proj g|=  1.45477D-02\n",
      "\n",
      "At iterate   10    f=  7.99250D+00    |proj g|=  8.15541D-04\n",
      "\n",
      "At iterate   15    f=  7.98929D+00    |proj g|=  3.74357D-02\n",
      "\n",
      "At iterate   20    f=  7.54872D+00    |proj g|=  8.28321D-01\n",
      "\n",
      "At iterate   25    f=  6.82629D+00    |proj g|=  5.83065D-01\n",
      "\n",
      "At iterate   30    f=  6.63688D+00    |proj g|=  1.25897D-01\n",
      "\n",
      "At iterate   35    f=  6.62828D+00    |proj g|=  3.82972D-02\n",
      "\n",
      "At iterate   40    f=  6.62796D+00    |proj g|=  3.96006D-04\n",
      "\n",
      "           * * *\n",
      "\n",
      "Tit   = total number of iterations\n",
      "Tnf   = total number of function evaluations\n",
      "Tnint = total number of segments explored during Cauchy searches\n",
      "Skip  = number of BFGS updates skipped\n",
      "Nact  = number of active bounds at final generalized Cauchy point\n",
      "Projg = norm of the final projected gradient\n",
      "F     = final function value\n",
      "\n",
      "           * * *\n",
      "\n",
      "   N    Tit     Tnf  Tnint  Skip  Nact     Projg        F\n",
      "    5     40     85      1     0     0   3.960D-04   6.628D+00\n",
      "  F =   6.6279635321876356     \n",
      "\n",
      "CONVERGENCE: REL_REDUCTION_OF_F_<=_FACTR*EPSMCH             \n",
      "SARIMAX (0, 0, 0) x (0, 0, 4, 24)12 : aIC Calculated =116131.92108392737\n",
      "RUNNING THE L-BFGS-B CODE\n",
      "\n",
      "           * * *\n",
      "\n",
      "Machine precision = 2.220D-16\n",
      " N =            1     M =           10\n",
      "\n",
      "At X0         0 variables are exactly at the bounds\n",
      "\n",
      "At iterate    0    f=  5.26532D+00    |proj g|=  6.00841D-05\n",
      "\n",
      "           * * *\n",
      "\n",
      "Tit   = total number of iterations\n",
      "Tnf   = total number of function evaluations\n",
      "Tnint = total number of segments explored during Cauchy searches\n",
      "Skip  = number of BFGS updates skipped\n",
      "Nact  = number of active bounds at final generalized Cauchy point\n",
      "Projg = norm of the final projected gradient\n",
      "F     = final function value\n",
      "\n",
      "           * * *\n",
      "\n",
      "   N    Tit     Tnf  Tnint  Skip  Nact     Projg        F\n",
      "    1      1      3      1     0     0   4.761D-08   5.265D+00\n",
      "  F =   5.2653218721645931     \n",
      "\n",
      "CONVERGENCE: NORM_OF_PROJECTED_GRADIENT_<=_PGTOL            \n"
     ]
    },
    {
     "name": "stderr",
     "output_type": "stream",
     "text": [
      " This problem is unconstrained.\n"
     ]
    },
    {
     "name": "stdout",
     "output_type": "stream",
     "text": [
      "SARIMAX (0, 0, 0) x (0, 1, 0, 24)12 : aIC Calculated =92250.43920032367\n"
     ]
    },
    {
     "name": "stderr",
     "output_type": "stream",
     "text": [
      " This problem is unconstrained.\n"
     ]
    },
    {
     "name": "stdout",
     "output_type": "stream",
     "text": [
      "RUNNING THE L-BFGS-B CODE\n",
      "\n",
      "           * * *\n",
      "\n",
      "Machine precision = 2.220D-16\n",
      " N =            2     M =           10\n",
      "\n",
      "At X0         0 variables are exactly at the bounds\n",
      "\n",
      "At iterate    0    f=  5.27460D+00    |proj g|=  2.47920D-01\n",
      "\n",
      "At iterate    5    f=  5.24786D+00    |proj g|=  5.63675D-04\n",
      "\n",
      "At iterate   10    f=  5.24782D+00    |proj g|=  2.82698D-03\n",
      "\n",
      "           * * *\n",
      "\n",
      "Tit   = total number of iterations\n",
      "Tnf   = total number of function evaluations\n",
      "Tnint = total number of segments explored during Cauchy searches\n",
      "Skip  = number of BFGS updates skipped\n",
      "Nact  = number of active bounds at final generalized Cauchy point\n",
      "Projg = norm of the final projected gradient\n",
      "F     = final function value\n",
      "\n",
      "           * * *\n",
      "\n",
      "   N    Tit     Tnf  Tnint  Skip  Nact     Projg        F\n",
      "    2     13     15      1     0     0   5.529D-06   5.248D+00\n",
      "  F =   5.2478194114249241     \n",
      "\n",
      "CONVERGENCE: NORM_OF_PROJECTED_GRADIENT_<=_PGTOL            \n",
      "SARIMAX (0, 0, 0) x (0, 1, 1, 24)12 : aIC Calculated =91945.79608816467\n",
      "RUNNING THE L-BFGS-B CODE\n",
      "\n",
      "           * * *\n",
      "\n",
      "Machine precision = 2.220D-16\n",
      " N =            3     M =           10\n",
      "\n",
      "At X0         0 variables are exactly at the bounds\n",
      "\n",
      "At iterate    0    f=  5.29728D+00    |proj g|=  4.94343D-01\n"
     ]
    },
    {
     "name": "stderr",
     "output_type": "stream",
     "text": [
      " This problem is unconstrained.\n"
     ]
    },
    {
     "name": "stdout",
     "output_type": "stream",
     "text": [
      "\n",
      "At iterate    5    f=  5.23174D+00    |proj g|=  2.76632D-04\n",
      "\n",
      "At iterate   10    f=  5.23172D+00    |proj g|=  1.24557D-04\n",
      "\n",
      "           * * *\n",
      "\n",
      "Tit   = total number of iterations\n",
      "Tnf   = total number of function evaluations\n",
      "Tnint = total number of segments explored during Cauchy searches\n",
      "Skip  = number of BFGS updates skipped\n",
      "Nact  = number of active bounds at final generalized Cauchy point\n",
      "Projg = norm of the final projected gradient\n",
      "F     = final function value\n",
      "\n",
      "           * * *\n",
      "\n",
      "   N    Tit     Tnf  Tnint  Skip  Nact     Projg        F\n",
      "    3     11     15      1     0     0   8.929D-07   5.232D+00\n",
      "  F =   5.2317182456455740     \n",
      "\n",
      "CONVERGENCE: NORM_OF_PROJECTED_GRADIENT_<=_PGTOL            \n",
      "SARIMAX (0, 0, 0) x (0, 1, 2, 24)12 : aIC Calculated =91665.70366371046\n"
     ]
    },
    {
     "name": "stderr",
     "output_type": "stream",
     "text": [
      " This problem is unconstrained.\n"
     ]
    },
    {
     "name": "stdout",
     "output_type": "stream",
     "text": [
      "RUNNING THE L-BFGS-B CODE\n",
      "\n",
      "           * * *\n",
      "\n",
      "Machine precision = 2.220D-16\n",
      " N =            4     M =           10\n",
      "\n",
      "At X0         0 variables are exactly at the bounds\n",
      "\n",
      "At iterate    0    f=  5.28981D+00    |proj g|=  5.24015D-01\n",
      "\n",
      "At iterate    5    f=  5.21842D+00    |proj g|=  5.23861D-04\n",
      "\n",
      "At iterate   10    f=  5.21842D+00    |proj g|=  4.08209D-04\n",
      "\n",
      "At iterate   15    f=  5.21841D+00    |proj g|=  2.87868D-04\n",
      "\n",
      "           * * *\n",
      "\n",
      "Tit   = total number of iterations\n",
      "Tnf   = total number of function evaluations\n",
      "Tnint = total number of segments explored during Cauchy searches\n",
      "Skip  = number of BFGS updates skipped\n",
      "Nact  = number of active bounds at final generalized Cauchy point\n",
      "Projg = norm of the final projected gradient\n",
      "F     = final function value\n",
      "\n",
      "           * * *\n",
      "\n",
      "   N    Tit     Tnf  Tnint  Skip  Nact     Projg        F\n",
      "    4     17     19      1     0     0   5.476D-06   5.218D+00\n",
      "  F =   5.2184147317399825     \n",
      "\n",
      "CONVERGENCE: NORM_OF_PROJECTED_GRADIENT_<=_PGTOL            \n",
      "SARIMAX (0, 0, 0) x (0, 1, 3, 24)12 : aIC Calculated =91434.6261000845\n",
      "RUNNING THE L-BFGS-B CODE\n",
      "\n",
      "           * * *\n",
      "\n",
      "Machine precision = 2.220D-16\n",
      " N =            5     M =           10\n",
      "\n",
      "At X0         0 variables are exactly at the bounds\n",
      "\n",
      "At iterate    0    f=  5.29027D+00    |proj g|=  6.25075D-01\n"
     ]
    },
    {
     "name": "stderr",
     "output_type": "stream",
     "text": [
      " This problem is unconstrained.\n"
     ]
    },
    {
     "name": "stdout",
     "output_type": "stream",
     "text": [
      "\n",
      "At iterate    5    f=  5.20487D+00    |proj g|=  4.14952D-03\n",
      "\n",
      "           * * *\n",
      "\n",
      "Tit   = total number of iterations\n",
      "Tnf   = total number of function evaluations\n",
      "Tnint = total number of segments explored during Cauchy searches\n",
      "Skip  = number of BFGS updates skipped\n",
      "Nact  = number of active bounds at final generalized Cauchy point\n",
      "Projg = norm of the final projected gradient\n",
      "F     = final function value\n",
      "\n",
      "           * * *\n",
      "\n",
      "   N    Tit     Tnf  Tnint  Skip  Nact     Projg        F\n",
      "    5      9     11      1     0     0   1.074D-05   5.205D+00\n",
      "  F =   5.2048627216272525     \n",
      "\n",
      "CONVERGENCE: REL_REDUCTION_OF_F_<=_FACTR*EPSMCH             \n",
      "SARIMAX (0, 0, 0) x (0, 1, 4, 24)12 : aIC Calculated =91199.19488290946\n"
     ]
    },
    {
     "name": "stderr",
     "output_type": "stream",
     "text": [
      " This problem is unconstrained.\n"
     ]
    },
    {
     "name": "stdout",
     "output_type": "stream",
     "text": [
      "RUNNING THE L-BFGS-B CODE\n",
      "\n",
      "           * * *\n",
      "\n",
      "Machine precision = 2.220D-16\n",
      " N =            1     M =           10\n",
      "\n",
      "At X0         0 variables are exactly at the bounds\n",
      "\n",
      "At iterate    0    f=  5.63633D+00    |proj g|=  7.99757D-05\n",
      "\n",
      "           * * *\n",
      "\n",
      "Tit   = total number of iterations\n",
      "Tnf   = total number of function evaluations\n",
      "Tnint = total number of segments explored during Cauchy searches\n",
      "Skip  = number of BFGS updates skipped\n",
      "Nact  = number of active bounds at final generalized Cauchy point\n",
      "Projg = norm of the final projected gradient\n",
      "F     = final function value\n",
      "\n",
      "           * * *\n",
      "\n",
      "   N    Tit     Tnf  Tnint  Skip  Nact     Projg        F\n",
      "    1      1      3      1     0     0   1.847D-08   5.636D+00\n",
      "  F =   5.6363263595857473     \n",
      "\n",
      "CONVERGENCE: NORM_OF_PROJECTED_GRADIENT_<=_PGTOL            \n",
      "SARIMAX (0, 0, 0) x (0, 2, 0, 24)12 : aIC Calculated =98750.4378199423\n",
      "RUNNING THE L-BFGS-B CODE\n",
      "\n",
      "           * * *\n",
      "\n",
      "Machine precision = 2.220D-16\n",
      " N =            2     M =           10\n",
      "\n",
      "At X0         0 variables are exactly at the bounds\n",
      "\n",
      "At iterate    0    f=  5.32160D+00    |proj g|=  1.78030D-01\n"
     ]
    },
    {
     "name": "stderr",
     "output_type": "stream",
     "text": [
      " This problem is unconstrained.\n"
     ]
    },
    {
     "name": "stdout",
     "output_type": "stream",
     "text": [
      "\n",
      "At iterate    5    f=  5.31211D+00    |proj g|=  6.86349D-03\n",
      "\n",
      "At iterate   10    f=  5.31157D+00    |proj g|=  1.72720D-01\n",
      "\n",
      "At iterate   15    f=  5.26329D+00    |proj g|=  3.35155D-01\n",
      "\n",
      "At iterate   20    f=  5.24253D+00    |proj g|=  1.02360D-01\n",
      "\n",
      "           * * *\n",
      "\n",
      "Tit   = total number of iterations\n",
      "Tnf   = total number of function evaluations\n",
      "Tnint = total number of segments explored during Cauchy searches\n",
      "Skip  = number of BFGS updates skipped\n",
      "Nact  = number of active bounds at final generalized Cauchy point\n",
      "Projg = norm of the final projected gradient\n",
      "F     = final function value\n",
      "\n",
      "           * * *\n",
      "\n",
      "   N    Tit     Tnf  Tnint  Skip  Nact     Projg        F\n",
      "    2     23     33      1     0     0   3.657D-06   5.242D+00\n",
      "  F =   5.2420946525543188     \n",
      "\n",
      "CONVERGENCE: NORM_OF_PROJECTED_GRADIENT_<=_PGTOL            \n",
      "SARIMAX (0, 0, 0) x (0, 2, 1, 24)12 : aIC Calculated =91845.49831275166\n"
     ]
    },
    {
     "name": "stderr",
     "output_type": "stream",
     "text": [
      " This problem is unconstrained.\n"
     ]
    },
    {
     "name": "stdout",
     "output_type": "stream",
     "text": [
      "RUNNING THE L-BFGS-B CODE\n",
      "\n",
      "           * * *\n",
      "\n",
      "Machine precision = 2.220D-16\n",
      " N =            3     M =           10\n",
      "\n",
      "At X0         0 variables are exactly at the bounds\n",
      "\n",
      "At iterate    0    f=  5.32085D+00    |proj g|=  6.16338D-01\n",
      "\n",
      "At iterate    5    f=  5.29837D+00    |proj g|=  6.28858D-02\n",
      "\n",
      "At iterate   10    f=  5.29781D+00    |proj g|=  6.10698D-02\n",
      "\n",
      "At iterate   15    f=  5.29744D+00    |proj g|=  7.44769D-02\n",
      "\n",
      "At iterate   20    f=  5.29327D+00    |proj g|=  1.99190D-01\n",
      "\n",
      "At iterate   25    f=  5.22731D+00    |proj g|=  2.17593D-01\n",
      "\n",
      "At iterate   30    f=  5.22343D+00    |proj g|=  4.11211D-05\n",
      "\n",
      "           * * *\n",
      "\n",
      "Tit   = total number of iterations\n",
      "Tnf   = total number of function evaluations\n",
      "Tnint = total number of segments explored during Cauchy searches\n",
      "Skip  = number of BFGS updates skipped\n",
      "Nact  = number of active bounds at final generalized Cauchy point\n",
      "Projg = norm of the final projected gradient\n",
      "F     = final function value\n",
      "\n",
      "           * * *\n",
      "\n",
      "   N    Tit     Tnf  Tnint  Skip  Nact     Projg        F\n",
      "    3     31     45      1     0     0   1.898D-06   5.223D+00\n",
      "  F =   5.2234267824179623     \n",
      "\n",
      "CONVERGENCE: NORM_OF_PROJECTED_GRADIENT_<=_PGTOL            \n",
      "SARIMAX (0, 0, 0) x (0, 2, 2, 24)12 : aIC Calculated =91520.4372279627\n"
     ]
    },
    {
     "name": "stderr",
     "output_type": "stream",
     "text": [
      " This problem is unconstrained.\n"
     ]
    },
    {
     "name": "stdout",
     "output_type": "stream",
     "text": [
      "RUNNING THE L-BFGS-B CODE\n",
      "\n",
      "           * * *\n",
      "\n",
      "Machine precision = 2.220D-16\n",
      " N =            4     M =           10\n",
      "\n",
      "At X0         0 variables are exactly at the bounds\n",
      "\n",
      "At iterate    0    f=  5.35635D+00    |proj g|=  5.85272D-01\n",
      "\n",
      "At iterate    5    f=  5.28626D+00    |proj g|=  4.34483D-02\n",
      "\n",
      "At iterate   10    f=  5.28365D+00    |proj g|=  4.76204D-02\n",
      "\n",
      "At iterate   15    f=  5.28207D+00    |proj g|=  1.42371D-02\n",
      "\n",
      "At iterate   20    f=  5.28175D+00    |proj g|=  7.27478D-03\n",
      "\n",
      "At iterate   25    f=  5.25733D+00    |proj g|=  2.96874D-01\n",
      "\n",
      "At iterate   30    f=  5.20917D+00    |proj g|=  2.46739D-01\n",
      "\n",
      "At iterate   35    f=  5.20676D+00    |proj g|=  1.61722D-04\n",
      "\n",
      "           * * *\n",
      "\n",
      "Tit   = total number of iterations\n",
      "Tnf   = total number of function evaluations\n",
      "Tnint = total number of segments explored during Cauchy searches\n",
      "Skip  = number of BFGS updates skipped\n",
      "Nact  = number of active bounds at final generalized Cauchy point\n",
      "Projg = norm of the final projected gradient\n",
      "F     = final function value\n",
      "\n",
      "           * * *\n",
      "\n",
      "   N    Tit     Tnf  Tnint  Skip  Nact     Projg        F\n",
      "    4     36     49      1     0     0   2.172D-05   5.207D+00\n",
      "  F =   5.2067619826068476     \n",
      "\n",
      "CONVERGENCE: REL_REDUCTION_OF_F_<=_FACTR*EPSMCH             \n"
     ]
    }
   ],
   "source": [
    "# add a column ARIMA, the result of ARIMA predict \n",
    "\n",
    "\n",
    "import itertools\n",
    "import statsmodels.api as sm\n",
    "\n",
    "### Define Parameter Ranges to Test ###\n",
    "\n",
    "# Note: higher numbers will result in code taking much longer to run\n",
    "# Here we have it set to test p,d,q each = 0, 1 & 2\n",
    "\n",
    "# Define the p, d and q parameters to take any value between 0 and 3 (exclusive)\n",
    "p = d = q = range(0, 5)\n",
    "\n",
    "# Generate all different combinations of p, q and q triplets\n",
    "pdq = list(itertools.product(p, d, q))\n",
    "\n",
    "# Generate all different combinations of seasonal p, q and q triplets\n",
    "# Note: here we have 12 in the 's' position as we have monthly data\n",
    "# You'll want to change this according to your time series' frequency\n",
    "pdqs = [(x[0], x[1], x[2], 24) for x in list(itertools.product(p, d, q))]\n",
    "\n",
    "### Run Grid Search ###\n",
    "\n",
    "# Note: this code will take a while to run\n",
    "\n",
    "# Define function\n",
    "def sarimax_gridsearch(ts, pdq, pdqs, maxiter=100, freq='H'):\n",
    "    '''\n",
    "    Input: \n",
    "        ts : your time series data\n",
    "        pdq : ARIMA combinations from above\n",
    "        pdqs : seasonal ARIMA combinations from above\n",
    "        maxiter : number of iterations, increase if your model isn't converging\n",
    "        frequency : default='M' for month. Change to suit your time series frequency\n",
    "            e.g. 'D' for day, 'H' for hour, 'Y' for year. \n",
    "        \n",
    "    Return:\n",
    "        Prints out top 5 parameter combinations\n",
    "        Returns dataframe of parameter combinations ranked by BIC\n",
    "    '''\n",
    "\n",
    "    # Run a grid search with pdq and seasonal pdq parameters and get the best BIC value\n",
    "    ans = []\n",
    "    for comb in pdq:\n",
    "        for combs in pdqs:\n",
    "#             try:\n",
    "                mod = sm.tsa.statespace.SARIMAX(ts, # this is your time series you will input\n",
    "                                                order=comb,\n",
    "                                                seasonal_order=combs,\n",
    "                                                enforce_stationarity=False,\n",
    "                                                enforce_invertibility=False,\n",
    "                                                freq=freq)\n",
    "\n",
    "                output = mod.fit(maxiter=maxiter) \n",
    "                ans.append([comb, combs, output.aic])\n",
    "                print('SARIMAX {} x {}12 : aIC Calculated ={}'.format(comb, combs, output.aic))\n",
    "#             except:\n",
    "#                 continue\n",
    "            \n",
    "    # Find the parameters with minimal BIC value\n",
    "\n",
    "    # Convert into dataframe\n",
    "    ans_df = pd.DataFrame(ans, columns=['pdq', 'pdqs', 'aic'])\n",
    "\n",
    "    # Sort and return top 5 combinations\n",
    "    ans_df = ans_df.sort_values(by=['aic'],ascending=True)[0:5]\n",
    "    \n",
    "    return ans_df\n",
    "    \n",
    "### Apply function to your time series data ###\n",
    "\n",
    "# Remember to change frequency to match your time series data\n",
    "a = df['Total_Power']\n",
    "print(a.index.freq)\n",
    "sarimax_gridsearch(a, pdq, pdqs, freq='H')"
   ]
  },
  {
   "cell_type": "code",
   "execution_count": 64,
   "metadata": {},
   "outputs": [
    {
     "data": {
      "text/plain": [
       "((8760, 1), (8760,))"
      ]
     },
     "execution_count": 64,
     "metadata": {},
     "output_type": "execute_result"
    }
   ],
   "source": [
    "X, y = df[['detrend']].values, df['detrend'].values\n",
    "# X, y = df.loc[:'2022-06-01','Total_Power'].values, df.loc[:'2022-06-01','Total_Power'].values\n",
    "\n",
    "\n",
    "X.shape, y.shape"
   ]
  },
  {
   "cell_type": "code",
   "execution_count": 65,
   "metadata": {},
   "outputs": [
    {
     "data": {
      "text/plain": [
       "(array([[ 0.11080925],\n",
       "        [-0.44024172],\n",
       "        [-1.19248098],\n",
       "        ...,\n",
       "        [ 1.06490457],\n",
       "        [ 0.97527956],\n",
       "        [ 0.53973286]]),\n",
       " array([[0.50530267],\n",
       "        [0.40789306],\n",
       "        [0.27491928],\n",
       "        ...,\n",
       "        [0.67395867],\n",
       "        [0.6581156 ],\n",
       "        [0.58112376]]))"
      ]
     },
     "execution_count": 65,
     "metadata": {},
     "output_type": "execute_result"
    }
   ],
   "source": [
    "\n",
    "from sklearn.preprocessing import StandardScaler, MinMaxScaler\n",
    "mm = MinMaxScaler()\n",
    "ss = StandardScaler()\n",
    "\n",
    "X_trans = ss.fit_transform(X)\n",
    "y_trans = mm.fit_transform(y.reshape(-1, 1))\n",
    "\n",
    "used_for_inverse_diff = y_trans[46:49]\n",
    "\n",
    "X_trans, y_trans\n"
   ]
  },
  {
   "cell_type": "code",
   "execution_count": 66,
   "metadata": {},
   "outputs": [
    {
     "data": {
      "text/plain": [
       "(8712, 48, 1)"
      ]
     },
     "execution_count": 66,
     "metadata": {},
     "output_type": "execute_result"
    }
   ],
   "source": [
    "\n",
    "# split a multivariate sequence past, future samples (X and y)\n",
    "def split_sequences(input_sequences, output_sequence, n_steps_in, n_steps_out):\n",
    "    X, y = list(), list() # instantiate X and y\n",
    "    for i in range(len(input_sequences)):\n",
    "\n",
    "        # find the end of the input, output sequence\n",
    "        end_ix = i + n_steps_in\n",
    "        out_end_ix = end_ix + n_steps_out \n",
    "\n",
    "        # if (i in discard_indices):\n",
    "        #     continue\n",
    "        # if ((out_end_ix) in discard_indices):\n",
    "        #     continue \n",
    "\n",
    "        # check if we are beyond the dataset\n",
    "        if out_end_ix > len(input_sequences): break\n",
    "        # gather input and output of the pattern\n",
    "        seq_x, seq_y = input_sequences[i:end_ix], output_sequence[end_ix:out_end_ix, -1]\n",
    "        # print(seq_x,seq_y)\n",
    "        X.append(seq_x), y.append(seq_y)\n",
    "    return np.array(X), np.array(y)\n",
    "\n",
    "X_ss, y_mm = split_sequences(X_trans, y_trans, time_window, 1)\n",
    "# X_ss[0][40:49], y_mm\n",
    "X_ss.shape"
   ]
  },
  {
   "cell_type": "code",
   "execution_count": 67,
   "metadata": {},
   "outputs": [
    {
     "name": "stdout",
     "output_type": "stream",
     "text": [
      "NVIDIA GeForce RTX 3090\n"
     ]
    },
    {
     "data": {
      "text/plain": [
       "(torch.Size([8712, 48, 1]), torch.Size([8712, 1]))"
      ]
     },
     "execution_count": 67,
     "metadata": {},
     "output_type": "execute_result"
    }
   ],
   "source": [
    "# use 0.8 of data to train\n",
    "train_size = int(len(y_mm) * 0.8)\n",
    "# other data used to test\n",
    "test_size = len(y_mm) - train_size\n",
    "\n",
    "\n",
    "device = torch.device(\"cuda:0\" if torch.cuda.is_available() else \"cpu\")\n",
    "# device=torch.device('cpu')\n",
    "\n",
    "# print(torch.cuda.current_device())\n",
    "print(torch.cuda.get_device_name(0))\n",
    "\n",
    "X_all = Variable(torch.Tensor(X_ss)).to(device)\n",
    "X_train =  Variable(torch.Tensor(X_ss[:train_size])).to(device)\n",
    "X_test =  Variable(torch.Tensor(X_ss[train_size:])).to(device)\n",
    "\n",
    "y_train =  Variable(torch.Tensor(y_mm[:train_size])).to(device)\n",
    "y_test =  Variable(torch.Tensor(y_mm[train_size:])).to(device)\n",
    "y_all = Variable(torch.Tensor(y_mm)).to(device)\n",
    "\n",
    "\n",
    "\n",
    "X_all.shape,y_all.shape"
   ]
  },
  {
   "cell_type": "code",
   "execution_count": 68,
   "metadata": {},
   "outputs": [],
   "source": [
    "class LSTM(nn.Module):\n",
    "    \n",
    "    def __init__(self, num_classes, input_size, hidden_size, num_layers):\n",
    "        super().__init__()\n",
    "        self.num_classes = num_classes # output size\n",
    "        self.num_layers = num_layers # number of recurrent layers in the lstm\n",
    "        self.input_size = input_size # input size\n",
    "        self.hidden_size = hidden_size # neurons in each lstm layer\n",
    "        # LSTM model\n",
    "        self.lstm = nn.LSTM(input_size=input_size, hidden_size=hidden_size,\n",
    "                            num_layers=num_layers, batch_first=True, dropout=0.2) # lstm\n",
    "        self.fc = nn.Linear(hidden_size,num_classes)\n",
    "        self.fc_1 =  nn.Linear(hidden_size, 64) # fully connected 1\n",
    "        self.fc_2 = nn.Linear(64, num_classes) # fully connected 2\n",
    "        self.relu = nn.ReLU()\n",
    "        \n",
    "    def forward(self,x):\n",
    "        # hidden state\n",
    "        h_0 = Variable(torch.zeros(self.num_layers, x.size(0), self.hidden_size)).to(device)\n",
    "        # cell state\n",
    "        c_0 = Variable(torch.zeros(self.num_layers, x.size(0), self.hidden_size)).to(device)\n",
    "        # propagate input through LSTM\n",
    "        output, (hn, cn) = self.lstm(x, (h_0, c_0)) # (input, hidden, and internal state)\n",
    "        hn = hn[-1,:,:].view(-1, self.hidden_size) # reshaping the data for Dense layer next\n",
    "        out = self.relu(hn)\n",
    "#         out = self.fc_1(out) # first dense\n",
    "#         out = self.relu(out) # relu\n",
    "#         out = self.fc_2(out) # final output\n",
    "        out = self.fc(out)\n",
    "        return out"
   ]
  },
  {
   "cell_type": "code",
   "execution_count": 69,
   "metadata": {},
   "outputs": [],
   "source": [
    "def training_loop(n_epochs, lstm, optimiser, loss_fn, X_train, y_train,\n",
    "                  X_test, y_test):\n",
    "    for epoch in range(n_epochs):\n",
    "        lstm.train()\n",
    "        outputs = lstm.forward(X_train) # forward pass\n",
    "        optimiser.zero_grad() # calculate the gradient, manually setting to 0\n",
    "        # obtain the loss function\n",
    "        loss = loss_fn(outputs, y_train)\n",
    "        loss.backward() # calculates the loss of the loss function\n",
    "        optimiser.step() # improve from loss, i.e backprop\n",
    "        # test loss\n",
    "        lstm.eval()\n",
    "        test_preds = lstm(X_test)\n",
    "        test_loss = loss_fn(test_preds, y_test)\n",
    "        if epoch % 100 == 0:\n",
    "            print(\"Epoch: %d, train loss: %1.5f, test loss: %1.5f\" % (epoch, \n",
    "                                                                      loss.item(), \n",
    "                                                                      test_loss.item())) "
   ]
  },
  {
   "cell_type": "code",
   "execution_count": 73,
   "metadata": {},
   "outputs": [
    {
     "name": "stdout",
     "output_type": "stream",
     "text": [
      "Epoch: 0, train loss: 0.28485, test loss: 0.20660\n",
      "Epoch: 100, train loss: 0.00250, test loss: 0.00127\n",
      "Epoch: 200, train loss: 0.00135, test loss: 0.00071\n",
      "Epoch: 300, train loss: 0.00107, test loss: 0.00063\n",
      "Epoch: 400, train loss: 0.00093, test loss: 0.00055\n",
      "Epoch: 500, train loss: 0.00085, test loss: 0.00050\n",
      "Epoch: 600, train loss: 0.00083, test loss: 0.00048\n",
      "Epoch: 700, train loss: 0.00082, test loss: 0.00054\n",
      "Epoch: 800, train loss: 0.00078, test loss: 0.00047\n",
      "Epoch: 900, train loss: 0.00077, test loss: 0.00043\n"
     ]
    }
   ],
   "source": [
    "import warnings\n",
    "warnings.filterwarnings('ignore')\n",
    "\n",
    "n_epochs = 1000 # 1000 epochs\n",
    "learning_rate = 0.001 # 0.001 lr\n",
    "\n",
    "input_size = 1 # number of features\n",
    "hidden_size = 256 # number of features in hidden state\n",
    "num_layers = 3 # number of stacked lstm layers\n",
    "\n",
    "num_classes = 1 # number of output classes \n",
    "\n",
    "lstm = LSTM(num_classes, \n",
    "              input_size, \n",
    "              hidden_size, \n",
    "              num_layers).to(device)\n",
    "\n",
    "loss_fn = torch.nn.MSELoss()    # mean-squared error for regression\n",
    "optimiser = torch.optim.Adam(lstm.parameters(), lr=learning_rate)\n",
    "\n",
    "training_loop(n_epochs=n_epochs,\n",
    "              lstm=lstm,\n",
    "              optimiser=optimiser,\n",
    "              loss_fn=loss_fn,\n",
    "              X_train=X_train,\n",
    "              y_train=y_train,\n",
    "              X_test=X_test,\n",
    "              y_test=y_test)\n",
    "\n",
    "# detrend num_layer = 3, train loss = 0.002, test loss= 0.0020\n",
    "# total_poewr num_layer = 3, train loss = , test loss = 0.2\n",
    "# detrend num_layer = 6, train loss = , test loss = \n",
    "\n",
    "# using feature total and ac, hidden_size=256, hidden_layer_num=3, train loss = 0.002, test loss = 0.00185\n",
    "# using feature total and ac, hidden_size=512, hidden_layer_num=3, train loss = 0.002, test loss = 0.00197\n",
    "\n",
    "# total+ac+sarima, hidden_size=256, hidden_lay_num = 3, train_loss =0.00178 , test_loss = 0.00187"
   ]
  },
  {
   "cell_type": "markdown",
   "metadata": {},
   "source": [
    "Save Model\n",
    "--"
   ]
  },
  {
   "cell_type": "code",
   "execution_count": null,
   "metadata": {},
   "outputs": [],
   "source": [
    "torch.save(lstm.state_dict())"
   ]
  },
  {
   "cell_type": "markdown",
   "metadata": {},
   "source": [
    "Visualization\n",
    "--"
   ]
  },
  {
   "cell_type": "code",
   "execution_count": 29,
   "metadata": {},
   "outputs": [
    {
     "ename": "NameError",
     "evalue": "name 'yhat' is not defined",
     "output_type": "error",
     "traceback": [
      "\u001b[0;31m---------------------------------------------------------------------------\u001b[0m",
      "\u001b[0;31mNameError\u001b[0m                                 Traceback (most recent call last)",
      "Cell \u001b[0;32mIn[29], line 3\u001b[0m\n\u001b[1;32m      1\u001b[0m \u001b[38;5;28;01mfrom\u001b[39;00m \u001b[38;5;21;01mtorchviz\u001b[39;00m \u001b[38;5;28;01mimport\u001b[39;00m make_dot\n\u001b[0;32m----> 3\u001b[0m make_dot(\u001b[43myhat\u001b[49m, params\u001b[38;5;241m=\u001b[39m\u001b[38;5;28mdict\u001b[39m(\u001b[38;5;28mlist\u001b[39m(model\u001b[38;5;241m.\u001b[39mnamed_parameters())))\u001b[38;5;241m.\u001b[39mrender(\u001b[38;5;124m\"\u001b[39m\u001b[38;5;124mrnn_torchviz\u001b[39m\u001b[38;5;124m\"\u001b[39m, \u001b[38;5;28mformat\u001b[39m\u001b[38;5;241m=\u001b[39m\u001b[38;5;124m\"\u001b[39m\u001b[38;5;124mpng\u001b[39m\u001b[38;5;124m\"\u001b[39m)\n",
      "\u001b[0;31mNameError\u001b[0m: name 'yhat' is not defined"
     ]
    }
   ],
   "source": [
    "from torchviz import make_dot\n",
    "\n",
    "make_dot(yhat, params=dict(list(model.named_parameters()))).render(\"rnn_torchviz\", format=\"png\")"
   ]
  },
  {
   "cell_type": "markdown",
   "metadata": {},
   "source": [
    "detrend test\n",
    "--"
   ]
  },
  {
   "cell_type": "code",
   "execution_count": 74,
   "metadata": {},
   "outputs": [
    {
     "name": "stdout",
     "output_type": "stream",
     "text": [
      "torch.Size([8712, 1])\n",
      "(8712, 1)\n"
     ]
    },
    {
     "data": {
      "image/png": "[encoded data removed]",
      "text/plain": [
       "<Figure size 640x480 with 1 Axes>"
      ]
     },
     "metadata": {},
     "output_type": "display_data"
    }
   ],
   "source": [
    "# %matplotlib qt\n",
    "# %matplotlib widget\n",
    "\n",
    "y_predict = lstm(X_all) # forward pass\n",
    "print(y_predict.shape)\n",
    "y_predict = torch.Tensor.cpu(y_predict).data.numpy() # numpy conversion\n",
    "y_origin = torch.Tensor.cpu(y_all).data.numpy()\n",
    "print(y_origin.shape)\n",
    "\n",
    "y_predict = mm.inverse_transform(y_predict) # reverse transformation\n",
    "y_origin = mm.inverse_transform(y_origin)\n",
    "true, preds = [], []\n",
    "\n",
    "plt.plot(y_origin, label='Actual Data') # actual plot\n",
    "plt.plot(y_predict, label='Predicted Data') # predicted plot\n",
    "plt.axvline(x=train_size, c='r', linestyle='--')\n",
    "plt.title('Time-Series Prediction')\n",
    "plt.legend()\n",
    "plt.savefig(\"whole_plot.png\", dpi=300)\n",
    "plt.show() "
   ]
  },
  {
   "cell_type": "markdown",
   "metadata": {},
   "source": [
    "retrend test\n",
    "--"
   ]
  },
  {
   "cell_type": "code",
   "execution_count": 24,
   "metadata": {},
   "outputs": [
    {
     "name": "stdout",
     "output_type": "stream",
     "text": [
      "training RMSE 0.044864513 testing RMSE 0.046002995\n",
      "[[-3.229145  ]\n",
      " [-1.9434239 ]\n",
      " [-0.27228132]\n",
      " ...\n",
      " [10.041345  ]\n",
      " [13.170722  ]\n",
      " [-1.2059636 ]]\n",
      "[[ -3.4083285]\n",
      " [ 20.383125 ]\n",
      " [  1.8852103]\n",
      " ...\n",
      " [ 43.38687  ]\n",
      " [  3.4068747]\n",
      " [-12.32312  ]]\n"
     ]
    },
    {
     "data": {
      "image/png": "[encoded data removed]",
      "text/plain": [
       "<Figure size 640x480 with 1 Axes>"
      ]
     },
     "metadata": {},
     "output_type": "display_data"
    }
   ],
   "source": [
    "%matplotlib inline\n",
    "from sklearn.metrics import mean_squared_error\n",
    "\n",
    "y_predict = torch.Tensor.cpu(lstm(X_all)) # forward pass\n",
    "y_predict = y_predict.data.numpy() # numpy conversion\n",
    "print('training RMSE',mean_squared_error(torch.Tensor.cpu(y_all).data.numpy()[:train_size], y_predict[:train_size], squared=False),'testing RMSE',mean_squared_error(torch.Tensor.cpu(y_all).data.numpy()[train_size:], y_predict[train_size:], squared=False))\n",
    "y_predict = mm.inverse_transform(y_predict) # reverse transformation\n",
    "print(y_predict)\n",
    "y_predict = y_predict + trend.values.reshape(-1,1)[48:]\n",
    "y_origin = torch.Tensor.cpu(y_all).data.numpy()\n",
    "y_origin = mm.inverse_transform(y_origin)\n",
    "print(y_origin)\n",
    "y_origin = y_origin + trend.values.reshape(-1,1)[48:]\n",
    "\n",
    "y_predict = mm.inverse_transform(y_predict) # reverse transformation\n",
    "y_origin = mm.inverse_transform(y_origin)\n",
    "\n",
    "\n",
    "\n",
    "\n",
    "plt.plot(y_origin, label='Actual Data') # actual plot\n",
    "plt.plot(y_predict, label='Predicted Data') # predicted plot\n",
    "plt.axvline(x=train_size, c='r', linestyle='--')\n",
    "plt.title('Time-Series Prediction')\n",
    "plt.legend()\n",
    "plt.savefig(\"whole_plot.png\", dpi=300)\n",
    "plt.show() "
   ]
  },
  {
   "cell_type": "code",
   "execution_count": null,
   "metadata": {},
   "outputs": [],
   "source": []
  }
 ],
 "metadata": {
  "kernelspec": {
   "display_name": "Python [conda env:cfyML]",
   "language": "python",
   "name": "conda-env-cfyML-py"
  },
  "language_info": {
   "codemirror_mode": {
    "name": "ipython",
    "version": 3
   },
   "file_extension": ".py",
   "mimetype": "text/x-python",
   "name": "python",
   "nbconvert_exporter": "python",
   "pygments_lexer": "ipython3",
   "version": "3.9.16"
  }
 },
 "nbformat": 4,
 "nbformat_minor": 2
}
